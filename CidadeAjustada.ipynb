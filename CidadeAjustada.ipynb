{
  "cells": [
    {
      "cell_type": "markdown",
      "metadata": {
        "id": "view-in-github",
        "colab_type": "text"
      },
      "source": [
        "<a href=\"https://colab.research.google.com/github/saurater/python/blob/master/CidadeAjustada.ipynb\" target=\"_parent\"><img src=\"https://colab.research.google.com/assets/colab-badge.svg\" alt=\"Open In Colab\"/></a>"
      ]
    },
    {
      "cell_type": "markdown",
      "source": [
        "# Correção de Cidades\n",
        "\n",
        "**Created** on Thu Jun 13 20:56:30 2019\n",
        "\n",
        "**@author:** Sam Faraday\n",
        "\n",
        "**Update:** June 15, 2019 21h31\n"
      ],
      "metadata": {
        "id": "ndxTrH5Q4nn1"
      }
    },
    {
      "cell_type": "code",
      "source": [
        "! pip install fuzzywuzzy"
      ],
      "metadata": {
        "id": "nHLkzzBq32Nw"
      },
      "execution_count": null,
      "outputs": []
    },
    {
      "cell_type": "code",
      "source": [
        "! pip install python-Levenshtein"
      ],
      "metadata": {
        "id": "-_XgdlLF45w9"
      },
      "execution_count": null,
      "outputs": []
    },
    {
      "cell_type": "code",
      "execution_count": 6,
      "metadata": {
        "id": "lIYdn1woOS1n"
      },
      "outputs": [],
      "source": [
        "# -*- coding: utf-8 -*-\n",
        "\n",
        "from fuzzywuzzy import fuzz\n",
        "\n",
        "import pandas as pd\n",
        "\n",
        "import re\n",
        "\n",
        "class CidadeAjustada:\n",
        "    \n",
        "    def GetCidade(self, cidade):\n",
        "        \n",
        "        cidade = re.sub(r'\\s+', ' ', cidade)\n",
        "\n",
        "        listaCidades = []\n",
        "        \n",
        "        xls = pd.ExcelFile('CidadesCorrigidas.xlsx')\n",
        "        \n",
        "        xls.sheet_names\n",
        "        \n",
        "        for planilha in xls.sheet_names:\n",
        "            \n",
        "            df = pd.read_excel('CidadesCorrigidas.xlsx', sheet_name= planilha)\n",
        "            \n",
        "            for i in df.index:\n",
        "        \n",
        "                Str2 = df['cidade_l'][i]\n",
        "                Token_Set_Ratio = fuzz.token_set_ratio(cidade,Str2)\n",
        "                if Token_Set_Ratio >=91:\n",
        "                    listaCidades.append({\"probabilidade\": Token_Set_Ratio,\"cidade_corrigida\":df['cidade_corrigida_l'][i]})\n",
        "                    listaCidades.sort(key=lambda tup: tup[\"probabilidade\"], reverse=True)\n",
        "                    \n",
        "            for element in listaCidades:\n",
        "                if int(element['probabilidade'] )>= 90:\n",
        "                    #print(element['cidade_corrigida'])\n",
        "                    return re.sub(r'\\s+', ' ',element['cidade_corrigida'])\n",
        "                    break;\n",
        " \n",
        "    def close(self): \n",
        "        self.con.close()  \n",
        "        \n",
        "    #def __init__(self):\n",
        "        #print(\"Iniciando a Classe CidadeAjustada\")    ,"
      ]
    },
    {
      "cell_type": "code",
      "source": [],
      "metadata": {
        "id": "5SfOvY5h33uy"
      },
      "execution_count": null,
      "outputs": []
    }
  ],
  "metadata": {
    "colab": {
      "provenance": [],
      "include_colab_link": true
    },
    "kernelspec": {
      "display_name": "Python 3",
      "name": "python3"
    }
  },
  "nbformat": 4,
  "nbformat_minor": 0
}